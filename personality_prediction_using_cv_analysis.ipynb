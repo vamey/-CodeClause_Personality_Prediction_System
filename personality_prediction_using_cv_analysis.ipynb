{
 "cells": [
  {
   "cell_type": "markdown",
   "metadata": {
    "id": "AuUsTES1MJSf"
   },
   "source": [
    "**Personality Prediction System via CV Analysis**"
   ]
  },
  {
   "cell_type": "code",
   "execution_count": 1,
   "metadata": {
    "executionInfo": {
     "elapsed": 2217,
     "status": "ok",
     "timestamp": 1682228553393,
     "user": {
      "displayName": "Balaji Raju",
      "userId": "17918094974603149370"
     },
     "user_tz": -330
    },
    "id": "P_RwRflALsUN"
   },
   "outputs": [],
   "source": [
    "import nltk\n",
    "from nltk.sentiment.vader import SentimentIntensityAnalyzer"
   ]
  },
  {
   "cell_type": "code",
   "execution_count": 2,
   "metadata": {
    "colab": {
     "base_uri": "https://localhost:8080/"
    },
    "executionInfo": {
     "elapsed": 13,
     "status": "ok",
     "timestamp": 1682228557182,
     "user": {
      "displayName": "Balaji Raju",
      "userId": "17918094974603149370"
     },
     "user_tz": -330
    },
    "id": "tjlPi1gxLxNU",
    "outputId": "7ceef904-1642-4868-fb02-2d89c0bf0e42"
   },
   "outputs": [
    {
     "name": "stderr",
     "output_type": "stream",
     "text": [
      "[nltk_data] Downloading package vader_lexicon to /root/nltk_data...\n"
     ]
    }
   ],
   "source": [
    "nltk.download('vader_lexicon')\n",
    "sid = SentimentIntensityAnalyzer()"
   ]
  },
  {
   "cell_type": "code",
   "execution_count": 3,
   "metadata": {
    "executionInfo": {
     "elapsed": 560,
     "status": "ok",
     "timestamp": 1682228560489,
     "user": {
      "displayName": "Balaji Raju",
      "userId": "17918094974603149370"
     },
     "user_tz": -330
    },
    "id": "bTwhg6aHLxEU"
   },
   "outputs": [],
   "source": [
    "cv_Bio = \"I am a flexible and experienced insurance administrator with excellent time management skills. I am a good communicator with proven inter personal skills and am used to working in a team whilst also being capable of using own initiative. I am skilled In dealing with problems in a resourceful manner and negotiating to achieve beneficial agreement. I am always enthusiastic to learn and undertake new challenges.\""
   ]
  },
  {
   "cell_type": "code",
   "execution_count": 4,
   "metadata": {
    "executionInfo": {
     "elapsed": 6,
     "status": "ok",
     "timestamp": 1682228562101,
     "user": {
      "displayName": "Balaji Raju",
      "userId": "17918094974603149370"
     },
     "user_tz": -330
    },
    "id": "p4DKQC1gLxA4"
   },
   "outputs": [],
   "source": [
    "sentiment_scores = sid.polarity_scores(cv_Bio)"
   ]
  },
  {
   "cell_type": "code",
   "execution_count": 5,
   "metadata": {
    "executionInfo": {
     "elapsed": 396,
     "status": "ok",
     "timestamp": 1682228564627,
     "user": {
      "displayName": "Balaji Raju",
      "userId": "17918094974603149370"
     },
     "user_tz": -330
    },
    "id": "vG96KhijLw-k"
   },
   "outputs": [],
   "source": [
    "compound_score = sentiment_scores['compound']\n",
    "positive_score = sentiment_scores['pos']\n",
    "neutral_score = sentiment_scores['neu']\n",
    "negative_score = sentiment_scores['neg']"
   ]
  },
  {
   "cell_type": "code",
   "execution_count": 6,
   "metadata": {
    "colab": {
     "base_uri": "https://localhost:8080/"
    },
    "executionInfo": {
     "elapsed": 9,
     "status": "ok",
     "timestamp": 1682228566839,
     "user": {
      "displayName": "Balaji Raju",
      "userId": "17918094974603149370"
     },
     "user_tz": -330
    },
    "id": "y1hlbC3dLw8Z",
    "outputId": "b74696c7-cf7a-4483-a700-71fb3e29a2b7"
   },
   "outputs": [
    {
     "name": "stdout",
     "output_type": "stream",
     "text": [
      "Sentiment Analysis Results:\n",
      "Compound Score:  0.9517\n",
      "Positive Score:  0.296\n",
      "Neutral Score:  0.668\n",
      "Negative Score:  0.037\n"
     ]
    }
   ],
   "source": [
    "print(\"Sentiment Analysis Results:\")\n",
    "print(\"Compound Score: \", compound_score)\n",
    "print(\"Positive Score: \", positive_score)\n",
    "print(\"Neutral Score: \", neutral_score)\n",
    "print(\"Negative Score: \", negative_score)"
   ]
  }
 ],
 "metadata": {
  "colab": {
   "authorship_tag": "ABX9TyPtiy5foYNMje6+Gs08eYEQ",
   "provenance": []
  },
  "gpuClass": "standard",
  "kernelspec": {
   "display_name": "Python 3 (ipykernel)",
   "language": "python",
   "name": "python3"
  },
  "language_info": {
   "codemirror_mode": {
    "name": "ipython",
    "version": 3
   },
   "file_extension": ".py",
   "mimetype": "text/x-python",
   "name": "python",
   "nbconvert_exporter": "python",
   "pygments_lexer": "ipython3",
   "version": "3.9.7"
  }
 },
 "nbformat": 4,
 "nbformat_minor": 1
}
